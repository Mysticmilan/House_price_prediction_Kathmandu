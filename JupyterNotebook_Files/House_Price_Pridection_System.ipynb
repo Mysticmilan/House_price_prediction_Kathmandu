{
 "cells": [
  {
   "cell_type": "markdown",
   "id": "aa2a628c",
   "metadata": {},
   "source": [
    "# Importing Libraries"
   ]
  },
  {
   "cell_type": "code",
   "execution_count": 1,
   "id": "a55f013c",
   "metadata": {},
   "outputs": [],
   "source": [
    "import numpy as np\n",
    "import pandas as pd\n",
    "import matplotlib.pyplot as plt\n",
    "import seaborn as sns"
   ]
  },
  {
   "cell_type": "markdown",
   "id": "b3aa1c8d",
   "metadata": {},
   "source": [
    "# Reading Data"
   ]
  },
  {
   "cell_type": "code",
   "execution_count": 2,
   "id": "abd873dd",
   "metadata": {},
   "outputs": [],
   "source": [
    "dataset = pd.read_csv('FinalDataSet.csv')"
   ]
  },
  {
   "cell_type": "code",
   "execution_count": 3,
   "id": "1fcf41d3",
   "metadata": {
    "scrolled": true
   },
   "outputs": [
    {
     "data": {
      "text/html": [
       "<div>\n",
       "<style scoped>\n",
       "    .dataframe tbody tr th:only-of-type {\n",
       "        vertical-align: middle;\n",
       "    }\n",
       "\n",
       "    .dataframe tbody tr th {\n",
       "        vertical-align: top;\n",
       "    }\n",
       "\n",
       "    .dataframe thead th {\n",
       "        text-align: right;\n",
       "    }\n",
       "</style>\n",
       "<table border=\"1\" class=\"dataframe\">\n",
       "  <thead>\n",
       "    <tr style=\"text-align: right;\">\n",
       "      <th></th>\n",
       "      <th>Bedroom</th>\n",
       "      <th>Bathroom</th>\n",
       "      <th>Floor</th>\n",
       "      <th>Parking</th>\n",
       "      <th>Property Face</th>\n",
       "      <th>Build Year(In B.S.)</th>\n",
       "      <th>Area Covered(Sq.Feet)</th>\n",
       "      <th>Posted Date(Moth Ago)</th>\n",
       "      <th>Price(NRS.)</th>\n",
       "      <th>District</th>\n",
       "      <th>Location</th>\n",
       "      <th>Road Distance(Feet)</th>\n",
       "      <th>Type of Road</th>\n",
       "    </tr>\n",
       "  </thead>\n",
       "  <tbody>\n",
       "    <tr>\n",
       "      <th>0</th>\n",
       "      <td>6</td>\n",
       "      <td>5</td>\n",
       "      <td>2.5</td>\n",
       "      <td>1</td>\n",
       "      <td>West</td>\n",
       "      <td>2068.0</td>\n",
       "      <td>1326.21</td>\n",
       "      <td>3</td>\n",
       "      <td>40000000</td>\n",
       "      <td>Kathmandu</td>\n",
       "      <td>Chhauni</td>\n",
       "      <td>13</td>\n",
       "      <td>Blacktopped</td>\n",
       "    </tr>\n",
       "    <tr>\n",
       "      <th>1</th>\n",
       "      <td>5</td>\n",
       "      <td>5</td>\n",
       "      <td>2.5</td>\n",
       "      <td>1</td>\n",
       "      <td>South East</td>\n",
       "      <td>NaN</td>\n",
       "      <td>1026.75</td>\n",
       "      <td>1</td>\n",
       "      <td>27500000</td>\n",
       "      <td>Lalitpur</td>\n",
       "      <td>Imadol</td>\n",
       "      <td>12</td>\n",
       "      <td>Concrete</td>\n",
       "    </tr>\n",
       "    <tr>\n",
       "      <th>2</th>\n",
       "      <td>3</td>\n",
       "      <td>4</td>\n",
       "      <td>2.5</td>\n",
       "      <td>1</td>\n",
       "      <td>North East</td>\n",
       "      <td>NaN</td>\n",
       "      <td>1369.00</td>\n",
       "      <td>9</td>\n",
       "      <td>34000000</td>\n",
       "      <td>Lalitpur</td>\n",
       "      <td>Imadol</td>\n",
       "      <td>18</td>\n",
       "      <td>Soil Stabilized</td>\n",
       "    </tr>\n",
       "    <tr>\n",
       "      <th>3</th>\n",
       "      <td>5</td>\n",
       "      <td>6</td>\n",
       "      <td>3.0</td>\n",
       "      <td>1</td>\n",
       "      <td>South</td>\n",
       "      <td>2080.0</td>\n",
       "      <td>1796.81</td>\n",
       "      <td>1</td>\n",
       "      <td>55000000</td>\n",
       "      <td>Lalitpur</td>\n",
       "      <td>Imadol</td>\n",
       "      <td>13</td>\n",
       "      <td>Paved</td>\n",
       "    </tr>\n",
       "    <tr>\n",
       "      <th>4</th>\n",
       "      <td>6</td>\n",
       "      <td>7</td>\n",
       "      <td>3.0</td>\n",
       "      <td>3</td>\n",
       "      <td>East</td>\n",
       "      <td>2077.0</td>\n",
       "      <td>3080.25</td>\n",
       "      <td>36</td>\n",
       "      <td>150000000</td>\n",
       "      <td>Lalitpur</td>\n",
       "      <td>Dhobighat</td>\n",
       "      <td>16</td>\n",
       "      <td>Gravelled</td>\n",
       "    </tr>\n",
       "  </tbody>\n",
       "</table>\n",
       "</div>"
      ],
      "text/plain": [
       "   Bedroom  Bathroom  Floor  Parking Property Face  Build Year(In B.S.)  \\\n",
       "0        6         5    2.5        1          West               2068.0   \n",
       "1        5         5    2.5        1    South East                  NaN   \n",
       "2        3         4    2.5        1    North East                  NaN   \n",
       "3        5         6    3.0        1         South               2080.0   \n",
       "4        6         7    3.0        3          East               2077.0   \n",
       "\n",
       "   Area Covered(Sq.Feet)  Posted Date(Moth Ago)  Price(NRS.)   District  \\\n",
       "0                1326.21                      3     40000000  Kathmandu   \n",
       "1                1026.75                      1     27500000   Lalitpur   \n",
       "2                1369.00                      9     34000000   Lalitpur   \n",
       "3                1796.81                      1     55000000   Lalitpur   \n",
       "4                3080.25                     36    150000000   Lalitpur   \n",
       "\n",
       "    Location  Road Distance(Feet)     Type of Road  \n",
       "0    Chhauni                   13      Blacktopped  \n",
       "1     Imadol                   12         Concrete  \n",
       "2     Imadol                   18  Soil Stabilized  \n",
       "3     Imadol                   13            Paved  \n",
       "4  Dhobighat                   16        Gravelled  "
      ]
     },
     "execution_count": 3,
     "metadata": {},
     "output_type": "execute_result"
    }
   ],
   "source": [
    "dataset.head()"
   ]
  },
  {
   "cell_type": "code",
   "execution_count": 4,
   "id": "aab2f592",
   "metadata": {
    "scrolled": true
   },
   "outputs": [
    {
     "data": {
      "text/html": [
       "<div>\n",
       "<style scoped>\n",
       "    .dataframe tbody tr th:only-of-type {\n",
       "        vertical-align: middle;\n",
       "    }\n",
       "\n",
       "    .dataframe tbody tr th {\n",
       "        vertical-align: top;\n",
       "    }\n",
       "\n",
       "    .dataframe thead th {\n",
       "        text-align: right;\n",
       "    }\n",
       "</style>\n",
       "<table border=\"1\" class=\"dataframe\">\n",
       "  <thead>\n",
       "    <tr style=\"text-align: right;\">\n",
       "      <th></th>\n",
       "      <th>Bedroom</th>\n",
       "      <th>Bathroom</th>\n",
       "      <th>Floor</th>\n",
       "      <th>Parking</th>\n",
       "      <th>Build Year(In B.S.)</th>\n",
       "      <th>Area Covered(Sq.Feet)</th>\n",
       "      <th>Posted Date(Moth Ago)</th>\n",
       "      <th>Price(NRS.)</th>\n",
       "      <th>Road Distance(Feet)</th>\n",
       "    </tr>\n",
       "  </thead>\n",
       "  <tbody>\n",
       "    <tr>\n",
       "      <th>count</th>\n",
       "      <td>569.000000</td>\n",
       "      <td>569.000000</td>\n",
       "      <td>569.000000</td>\n",
       "      <td>569.000000</td>\n",
       "      <td>342.000000</td>\n",
       "      <td>569.000000</td>\n",
       "      <td>569.000000</td>\n",
       "      <td>5.690000e+02</td>\n",
       "      <td>569.000000</td>\n",
       "    </tr>\n",
       "    <tr>\n",
       "      <th>mean</th>\n",
       "      <td>5.277680</td>\n",
       "      <td>3.493849</td>\n",
       "      <td>2.672847</td>\n",
       "      <td>1.695958</td>\n",
       "      <td>2075.517544</td>\n",
       "      <td>3945.985343</td>\n",
       "      <td>24.674868</td>\n",
       "      <td>3.586082e+07</td>\n",
       "      <td>14.676626</td>\n",
       "    </tr>\n",
       "    <tr>\n",
       "      <th>std</th>\n",
       "      <td>2.258835</td>\n",
       "      <td>1.592361</td>\n",
       "      <td>0.699689</td>\n",
       "      <td>2.050593</td>\n",
       "      <td>5.038094</td>\n",
       "      <td>16377.196456</td>\n",
       "      <td>20.809111</td>\n",
       "      <td>2.946637e+07</td>\n",
       "      <td>4.852489</td>\n",
       "    </tr>\n",
       "    <tr>\n",
       "      <th>min</th>\n",
       "      <td>2.000000</td>\n",
       "      <td>0.000000</td>\n",
       "      <td>1.000000</td>\n",
       "      <td>0.000000</td>\n",
       "      <td>2042.000000</td>\n",
       "      <td>855.620000</td>\n",
       "      <td>1.000000</td>\n",
       "      <td>5.200000e+06</td>\n",
       "      <td>0.000000</td>\n",
       "    </tr>\n",
       "    <tr>\n",
       "      <th>25%</th>\n",
       "      <td>4.000000</td>\n",
       "      <td>3.000000</td>\n",
       "      <td>2.500000</td>\n",
       "      <td>1.000000</td>\n",
       "      <td>2074.000000</td>\n",
       "      <td>1112.310000</td>\n",
       "      <td>2.000000</td>\n",
       "      <td>2.140000e+07</td>\n",
       "      <td>13.000000</td>\n",
       "    </tr>\n",
       "    <tr>\n",
       "      <th>50%</th>\n",
       "      <td>5.000000</td>\n",
       "      <td>4.000000</td>\n",
       "      <td>2.500000</td>\n",
       "      <td>1.000000</td>\n",
       "      <td>2076.000000</td>\n",
       "      <td>1369.000000</td>\n",
       "      <td>24.000000</td>\n",
       "      <td>2.850000e+07</td>\n",
       "      <td>13.000000</td>\n",
       "    </tr>\n",
       "    <tr>\n",
       "      <th>75%</th>\n",
       "      <td>6.000000</td>\n",
       "      <td>4.000000</td>\n",
       "      <td>3.000000</td>\n",
       "      <td>2.000000</td>\n",
       "      <td>2079.000000</td>\n",
       "      <td>1925.150000</td>\n",
       "      <td>48.000000</td>\n",
       "      <td>3.905000e+07</td>\n",
       "      <td>18.000000</td>\n",
       "    </tr>\n",
       "    <tr>\n",
       "      <th>max</th>\n",
       "      <td>18.000000</td>\n",
       "      <td>10.000000</td>\n",
       "      <td>5.500000</td>\n",
       "      <td>31.000000</td>\n",
       "      <td>2081.000000</td>\n",
       "      <td>291597.000000</td>\n",
       "      <td>60.000000</td>\n",
       "      <td>2.800000e+08</td>\n",
       "      <td>36.000000</td>\n",
       "    </tr>\n",
       "  </tbody>\n",
       "</table>\n",
       "</div>"
      ],
      "text/plain": [
       "          Bedroom    Bathroom       Floor     Parking  Build Year(In B.S.)  \\\n",
       "count  569.000000  569.000000  569.000000  569.000000           342.000000   \n",
       "mean     5.277680    3.493849    2.672847    1.695958          2075.517544   \n",
       "std      2.258835    1.592361    0.699689    2.050593             5.038094   \n",
       "min      2.000000    0.000000    1.000000    0.000000          2042.000000   \n",
       "25%      4.000000    3.000000    2.500000    1.000000          2074.000000   \n",
       "50%      5.000000    4.000000    2.500000    1.000000          2076.000000   \n",
       "75%      6.000000    4.000000    3.000000    2.000000          2079.000000   \n",
       "max     18.000000   10.000000    5.500000   31.000000          2081.000000   \n",
       "\n",
       "       Area Covered(Sq.Feet)  Posted Date(Moth Ago)   Price(NRS.)  \\\n",
       "count             569.000000             569.000000  5.690000e+02   \n",
       "mean             3945.985343              24.674868  3.586082e+07   \n",
       "std             16377.196456              20.809111  2.946637e+07   \n",
       "min               855.620000               1.000000  5.200000e+06   \n",
       "25%              1112.310000               2.000000  2.140000e+07   \n",
       "50%              1369.000000              24.000000  2.850000e+07   \n",
       "75%              1925.150000              48.000000  3.905000e+07   \n",
       "max            291597.000000              60.000000  2.800000e+08   \n",
       "\n",
       "       Road Distance(Feet)  \n",
       "count           569.000000  \n",
       "mean             14.676626  \n",
       "std               4.852489  \n",
       "min               0.000000  \n",
       "25%              13.000000  \n",
       "50%              13.000000  \n",
       "75%              18.000000  \n",
       "max              36.000000  "
      ]
     },
     "execution_count": 4,
     "metadata": {},
     "output_type": "execute_result"
    }
   ],
   "source": [
    "dataset.describe()"
   ]
  },
  {
   "cell_type": "code",
   "execution_count": 5,
   "id": "e8f1fa42",
   "metadata": {},
   "outputs": [
    {
     "name": "stdout",
     "output_type": "stream",
     "text": [
      "<class 'pandas.core.frame.DataFrame'>\n",
      "RangeIndex: 569 entries, 0 to 568\n",
      "Data columns (total 13 columns):\n",
      " #   Column                 Non-Null Count  Dtype  \n",
      "---  ------                 --------------  -----  \n",
      " 0   Bedroom                569 non-null    int64  \n",
      " 1   Bathroom               569 non-null    int64  \n",
      " 2   Floor                  569 non-null    float64\n",
      " 3   Parking                569 non-null    int64  \n",
      " 4   Property Face          569 non-null    object \n",
      " 5   Build Year(In B.S.)    342 non-null    float64\n",
      " 6   Area Covered(Sq.Feet)  569 non-null    float64\n",
      " 7   Posted Date(Moth Ago)  569 non-null    int64  \n",
      " 8   Price(NRS.)            569 non-null    int64  \n",
      " 9   District               569 non-null    object \n",
      " 10  Location               569 non-null    object \n",
      " 11  Road Distance(Feet)    569 non-null    int64  \n",
      " 12  Type of Road           500 non-null    object \n",
      "dtypes: float64(3), int64(6), object(4)\n",
      "memory usage: 57.9+ KB\n"
     ]
    }
   ],
   "source": [
    "dataset.info()"
   ]
  },
  {
   "cell_type": "markdown",
   "id": "33af0bee",
   "metadata": {},
   "source": [
    "# EDA"
   ]
  },
  {
   "cell_type": "markdown",
   "id": "90fa405c",
   "metadata": {},
   "source": [
    "## Cheaking Null Value"
   ]
  },
  {
   "cell_type": "code",
   "execution_count": 6,
   "id": "4d095980",
   "metadata": {},
   "outputs": [
    {
     "data": {
      "text/plain": [
       "Bedroom                    0\n",
       "Bathroom                   0\n",
       "Floor                      0\n",
       "Parking                    0\n",
       "Property Face              0\n",
       "Build Year(In B.S.)      227\n",
       "Area Covered(Sq.Feet)      0\n",
       "Posted Date(Moth Ago)      0\n",
       "Price(NRS.)                0\n",
       "District                   0\n",
       "Location                   0\n",
       "Road Distance(Feet)        0\n",
       "Type of Road              69\n",
       "dtype: int64"
      ]
     },
     "execution_count": 6,
     "metadata": {},
     "output_type": "execute_result"
    }
   ],
   "source": [
    "dataset.isnull().sum()"
   ]
  },
  {
   "cell_type": "code",
   "execution_count": 7,
   "id": "4b5b5312",
   "metadata": {},
   "outputs": [
    {
     "data": {
      "text/plain": [
       "<Axes: >"
      ]
     },
     "execution_count": 7,
     "metadata": {},
     "output_type": "execute_result"
    },
    {
     "data": {
      "image/png": "[encoded data removed]",
      "text/plain": [
       "<Figure size 640x480 with 1 Axes>"
      ]
     },
     "metadata": {},
     "output_type": "display_data"
    }
   ],
   "source": [
    "sns.heatmap(dataset.isnull(),yticklabels=False,cbar=False,cmap='viridis')"
   ]
  },
  {
   "cell_type": "code",
   "execution_count": 8,
   "id": "0749da5a",
   "metadata": {
    "scrolled": true
   },
   "outputs": [
    {
     "data": {
      "text/plain": [
       "Bedroom                   0\n",
       "Bathroom                 32\n",
       "Floor                     0\n",
       "Parking                  88\n",
       "Property Face             0\n",
       "Build Year(In B.S.)       0\n",
       "Area Covered(Sq.Feet)     0\n",
       "Posted Date(Moth Ago)     0\n",
       "Price(NRS.)               0\n",
       "District                  0\n",
       "Location                  0\n",
       "Road Distance(Feet)      15\n",
       "Type of Road              0\n",
       "dtype: int64"
      ]
     },
     "execution_count": 8,
     "metadata": {},
     "output_type": "execute_result"
    }
   ],
   "source": [
    "(dataset == 0).sum()"
   ]
  },
  {
   "cell_type": "code",
   "execution_count": 9,
   "id": "01948c6b",
   "metadata": {},
   "outputs": [
    {
     "data": {
      "text/plain": [
       "<Axes: >"
      ]
     },
     "execution_count": 9,
     "metadata": {},
     "output_type": "execute_result"
    },
    {
     "data": {
      "image/png": "[encoded data removed]",
      "text/plain": [
       "<Figure size 640x480 with 1 Axes>"
      ]
     },
     "metadata": {},
     "output_type": "display_data"
    }
   ],
   "source": [
    "sns.heatmap(dataset == 0,yticklabels=False,cbar=False,cmap='viridis')"
   ]
  },
  {
   "cell_type": "code",
   "execution_count": 10,
   "id": "4aa4dfc4",
   "metadata": {},
   "outputs": [
    {
     "data": {
      "text/plain": [
       "0"
      ]
     },
     "execution_count": 10,
     "metadata": {},
     "output_type": "execute_result"
    }
   ],
   "source": [
    "dataset.duplicated().sum() "
   ]
  },
  {
   "cell_type": "code",
   "execution_count": 11,
   "id": "b0a190e1",
   "metadata": {},
   "outputs": [],
   "source": [
    "dataset.drop_duplicates(inplace=True)"
   ]
  },
  {
   "cell_type": "markdown",
   "id": "2cab7e61",
   "metadata": {},
   "source": [
    "## Filling Value"
   ]
  },
  {
   "cell_type": "code",
   "execution_count": 12,
   "id": "520162f9",
   "metadata": {},
   "outputs": [],
   "source": [
    "# Custom function to fill null and zero values\n",
    "def fill_null_zero(data, column, value):\n",
    "    data[column] = data[column].fillna(value).replace(0, value)\n",
    "\n",
    "# Fill null and zero values with specified values\n",
    "fill_null_zero(dataset, 'Bathroom', 3)\n",
    "fill_null_zero(dataset, 'Parking', 2)\n",
    "fill_null_zero(dataset, 'Build Year(In B.S.)', 2075)\n",
    "fill_null_zero(dataset, 'Road Distance(Feet)', 14)"
   ]
  },
  {
   "cell_type": "code",
   "execution_count": 13,
   "id": "398428a9",
   "metadata": {},
   "outputs": [
    {
     "data": {
      "text/plain": [
       "<Axes: >"
      ]
     },
     "execution_count": 13,
     "metadata": {},
     "output_type": "execute_result"
    },
    {
     "data": {
      "image/png": "[encoded data removed]",
      "text/plain": [
       "<Figure size 640x480 with 1 Axes>"
      ]
     },
     "metadata": {},
     "output_type": "display_data"
    }
   ],
   "source": [
    "sns.heatmap(dataset.isnull(),yticklabels=False,cbar=False,cmap='viridis')"
   ]
  },
  {
   "cell_type": "code",
   "execution_count": 14,
   "id": "7afebe76",
   "metadata": {},
   "outputs": [
    {
     "data": {
      "text/plain": [
       "<Axes: >"
      ]
     },
     "execution_count": 14,
     "metadata": {},
     "output_type": "execute_result"
    },
    {
     "data": {
      "image/png": "[encoded data removed]",
      "text/plain": [
       "<Figure size 640x480 with 1 Axes>"
      ]
     },
     "metadata": {},
     "output_type": "display_data"
    }
   ],
   "source": [
    "sns.heatmap(dataset == 0,yticklabels=False,cbar=False,cmap='viridis')"
   ]
  },
  {
   "cell_type": "markdown",
   "id": "a965f850",
   "metadata": {},
   "source": [
    "# Handle Categorical Value"
   ]
  },
  {
   "cell_type": "code",
   "execution_count": 15,
   "id": "7b35626c",
   "metadata": {},
   "outputs": [
    {
     "name": "stdout",
     "output_type": "stream",
     "text": [
      "<class 'pandas.core.frame.DataFrame'>\n",
      "RangeIndex: 569 entries, 0 to 568\n",
      "Data columns (total 13 columns):\n",
      " #   Column                 Non-Null Count  Dtype  \n",
      "---  ------                 --------------  -----  \n",
      " 0   Bedroom                569 non-null    int64  \n",
      " 1   Bathroom               569 non-null    int64  \n",
      " 2   Floor                  569 non-null    float64\n",
      " 3   Parking                569 non-null    int64  \n",
      " 4   Property Face          569 non-null    object \n",
      " 5   Build Year(In B.S.)    569 non-null    float64\n",
      " 6   Area Covered(Sq.Feet)  569 non-null    float64\n",
      " 7   Posted Date(Moth Ago)  569 non-null    int64  \n",
      " 8   Price(NRS.)            569 non-null    int64  \n",
      " 9   District               569 non-null    object \n",
      " 10  Location               569 non-null    object \n",
      " 11  Road Distance(Feet)    569 non-null    int64  \n",
      " 12  Type of Road           500 non-null    object \n",
      "dtypes: float64(3), int64(6), object(4)\n",
      "memory usage: 57.9+ KB\n"
     ]
    }
   ],
   "source": [
    "dataset.info()"
   ]
  },
  {
   "cell_type": "code",
   "execution_count": 16,
   "id": "61aefb4f",
   "metadata": {},
   "outputs": [],
   "source": [
    "Prop_Face = pd.get_dummies(dataset['Property Face'])"
   ]
  },
  {
   "cell_type": "code",
   "execution_count": 17,
   "id": "517cdd9f",
   "metadata": {},
   "outputs": [],
   "source": [
    "District = pd.get_dummies(dataset['District'])"
   ]
  },
  {
   "cell_type": "code",
   "execution_count": 18,
   "id": "4535c0cf",
   "metadata": {},
   "outputs": [],
   "source": [
    "Roadtype = pd.get_dummies(dataset['Type of Road'])"
   ]
  },
  {
   "cell_type": "code",
   "execution_count": 19,
   "id": "cbb7b56f",
   "metadata": {},
   "outputs": [],
   "source": [
    "Location = pd.get_dummies(dataset['Location'])"
   ]
  },
  {
   "cell_type": "code",
   "execution_count": 20,
   "id": "fbb378a7",
   "metadata": {},
   "outputs": [],
   "source": [
    "dataset.drop(['Property Face','District','Location','Type of Road'], axis = 1, inplace = True)"
   ]
  },
  {
   "cell_type": "code",
   "execution_count": 21,
   "id": "d85b1e1d",
   "metadata": {},
   "outputs": [],
   "source": [
    "dataset = pd.concat([Prop_Face,District,Roadtype,Location,dataset], axis = 1)"
   ]
  },
  {
   "cell_type": "code",
   "execution_count": 22,
   "id": "ca2d5a8e",
   "metadata": {},
   "outputs": [
    {
     "data": {
      "text/html": [
       "<div>\n",
       "<style scoped>\n",
       "    .dataframe tbody tr th:only-of-type {\n",
       "        vertical-align: middle;\n",
       "    }\n",
       "\n",
       "    .dataframe tbody tr th {\n",
       "        vertical-align: top;\n",
       "    }\n",
       "\n",
       "    .dataframe thead th {\n",
       "        text-align: right;\n",
       "    }\n",
       "</style>\n",
       "<table border=\"1\" class=\"dataframe\">\n",
       "  <thead>\n",
       "    <tr style=\"text-align: right;\">\n",
       "      <th></th>\n",
       "      <th>East</th>\n",
       "      <th>North</th>\n",
       "      <th>North East</th>\n",
       "      <th>North West</th>\n",
       "      <th>South</th>\n",
       "      <th>South East</th>\n",
       "      <th>South West</th>\n",
       "      <th>West</th>\n",
       "      <th>Bhaktapur</th>\n",
       "      <th>Kathmandu</th>\n",
       "      <th>...</th>\n",
       "      <th>Tokha</th>\n",
       "      <th>Bedroom</th>\n",
       "      <th>Bathroom</th>\n",
       "      <th>Floor</th>\n",
       "      <th>Parking</th>\n",
       "      <th>Build Year(In B.S.)</th>\n",
       "      <th>Area Covered(Sq.Feet)</th>\n",
       "      <th>Posted Date(Moth Ago)</th>\n",
       "      <th>Price(NRS.)</th>\n",
       "      <th>Road Distance(Feet)</th>\n",
       "    </tr>\n",
       "  </thead>\n",
       "  <tbody>\n",
       "    <tr>\n",
       "      <th>0</th>\n",
       "      <td>False</td>\n",
       "      <td>False</td>\n",
       "      <td>False</td>\n",
       "      <td>False</td>\n",
       "      <td>False</td>\n",
       "      <td>False</td>\n",
       "      <td>False</td>\n",
       "      <td>True</td>\n",
       "      <td>False</td>\n",
       "      <td>True</td>\n",
       "      <td>...</td>\n",
       "      <td>False</td>\n",
       "      <td>6</td>\n",
       "      <td>5</td>\n",
       "      <td>2.5</td>\n",
       "      <td>1</td>\n",
       "      <td>2068.0</td>\n",
       "      <td>1326.21</td>\n",
       "      <td>3</td>\n",
       "      <td>40000000</td>\n",
       "      <td>13</td>\n",
       "    </tr>\n",
       "    <tr>\n",
       "      <th>1</th>\n",
       "      <td>False</td>\n",
       "      <td>False</td>\n",
       "      <td>False</td>\n",
       "      <td>False</td>\n",
       "      <td>False</td>\n",
       "      <td>True</td>\n",
       "      <td>False</td>\n",
       "      <td>False</td>\n",
       "      <td>False</td>\n",
       "      <td>False</td>\n",
       "      <td>...</td>\n",
       "      <td>False</td>\n",
       "      <td>5</td>\n",
       "      <td>5</td>\n",
       "      <td>2.5</td>\n",
       "      <td>1</td>\n",
       "      <td>2075.0</td>\n",
       "      <td>1026.75</td>\n",
       "      <td>1</td>\n",
       "      <td>27500000</td>\n",
       "      <td>12</td>\n",
       "    </tr>\n",
       "    <tr>\n",
       "      <th>2</th>\n",
       "      <td>False</td>\n",
       "      <td>False</td>\n",
       "      <td>True</td>\n",
       "      <td>False</td>\n",
       "      <td>False</td>\n",
       "      <td>False</td>\n",
       "      <td>False</td>\n",
       "      <td>False</td>\n",
       "      <td>False</td>\n",
       "      <td>False</td>\n",
       "      <td>...</td>\n",
       "      <td>False</td>\n",
       "      <td>3</td>\n",
       "      <td>4</td>\n",
       "      <td>2.5</td>\n",
       "      <td>1</td>\n",
       "      <td>2075.0</td>\n",
       "      <td>1369.00</td>\n",
       "      <td>9</td>\n",
       "      <td>34000000</td>\n",
       "      <td>18</td>\n",
       "    </tr>\n",
       "    <tr>\n",
       "      <th>3</th>\n",
       "      <td>False</td>\n",
       "      <td>False</td>\n",
       "      <td>False</td>\n",
       "      <td>False</td>\n",
       "      <td>True</td>\n",
       "      <td>False</td>\n",
       "      <td>False</td>\n",
       "      <td>False</td>\n",
       "      <td>False</td>\n",
       "      <td>False</td>\n",
       "      <td>...</td>\n",
       "      <td>False</td>\n",
       "      <td>5</td>\n",
       "      <td>6</td>\n",
       "      <td>3.0</td>\n",
       "      <td>1</td>\n",
       "      <td>2080.0</td>\n",
       "      <td>1796.81</td>\n",
       "      <td>1</td>\n",
       "      <td>55000000</td>\n",
       "      <td>13</td>\n",
       "    </tr>\n",
       "    <tr>\n",
       "      <th>4</th>\n",
       "      <td>True</td>\n",
       "      <td>False</td>\n",
       "      <td>False</td>\n",
       "      <td>False</td>\n",
       "      <td>False</td>\n",
       "      <td>False</td>\n",
       "      <td>False</td>\n",
       "      <td>False</td>\n",
       "      <td>False</td>\n",
       "      <td>False</td>\n",
       "      <td>...</td>\n",
       "      <td>False</td>\n",
       "      <td>6</td>\n",
       "      <td>7</td>\n",
       "      <td>3.0</td>\n",
       "      <td>3</td>\n",
       "      <td>2077.0</td>\n",
       "      <td>3080.25</td>\n",
       "      <td>36</td>\n",
       "      <td>150000000</td>\n",
       "      <td>16</td>\n",
       "    </tr>\n",
       "  </tbody>\n",
       "</table>\n",
       "<p>5 rows × 135 columns</p>\n",
       "</div>"
      ],
      "text/plain": [
       "    East  North  North East  North West  South  South East  South West   West  \\\n",
       "0  False  False       False       False  False       False       False   True   \n",
       "1  False  False       False       False  False        True       False  False   \n",
       "2  False  False        True       False  False       False       False  False   \n",
       "3  False  False       False       False   True       False       False  False   \n",
       "4   True  False       False       False  False       False       False  False   \n",
       "\n",
       "   Bhaktapur  Kathmandu  ...  Tokha  Bedroom  Bathroom  Floor  Parking  \\\n",
       "0      False       True  ...  False        6         5    2.5        1   \n",
       "1      False      False  ...  False        5         5    2.5        1   \n",
       "2      False      False  ...  False        3         4    2.5        1   \n",
       "3      False      False  ...  False        5         6    3.0        1   \n",
       "4      False      False  ...  False        6         7    3.0        3   \n",
       "\n",
       "   Build Year(In B.S.)  Area Covered(Sq.Feet)  Posted Date(Moth Ago)  \\\n",
       "0               2068.0                1326.21                      3   \n",
       "1               2075.0                1026.75                      1   \n",
       "2               2075.0                1369.00                      9   \n",
       "3               2080.0                1796.81                      1   \n",
       "4               2077.0                3080.25                     36   \n",
       "\n",
       "   Price(NRS.)  Road Distance(Feet)  \n",
       "0     40000000                   13  \n",
       "1     27500000                   12  \n",
       "2     34000000                   18  \n",
       "3     55000000                   13  \n",
       "4    150000000                   16  \n",
       "\n",
       "[5 rows x 135 columns]"
      ]
     },
     "execution_count": 22,
     "metadata": {},
     "output_type": "execute_result"
    }
   ],
   "source": [
    "dataset.head()"
   ]
  },
  {
   "cell_type": "code",
   "execution_count": 23,
   "id": "efdc86b7",
   "metadata": {},
   "outputs": [
    {
     "name": "stdout",
     "output_type": "stream",
     "text": [
      "<class 'pandas.core.frame.DataFrame'>\n",
      "RangeIndex: 569 entries, 0 to 568\n",
      "Columns: 135 entries, East to Road Distance(Feet)\n",
      "dtypes: bool(126), float64(3), int64(6)\n",
      "memory usage: 110.2 KB\n"
     ]
    }
   ],
   "source": [
    "dataset.info()"
   ]
  },
  {
   "cell_type": "markdown",
   "id": "db1dff54",
   "metadata": {},
   "source": [
    "# Model Building"
   ]
  },
  {
   "cell_type": "code",
   "execution_count": 24,
   "id": "325821c4",
   "metadata": {},
   "outputs": [],
   "source": [
    "from sklearn.model_selection import train_test_split"
   ]
  },
  {
   "cell_type": "code",
   "execution_count": 25,
   "id": "8f287428",
   "metadata": {},
   "outputs": [],
   "source": [
    "X = dataset.drop('Price(NRS.)', axis=1)\n",
    "y = dataset['Price(NRS.)']"
   ]
  },
  {
   "cell_type": "code",
   "execution_count": 26,
   "id": "3c30896c",
   "metadata": {},
   "outputs": [],
   "source": [
    "X_train, X_test, y_train, y_test = train_test_split(X, y, test_size=0.3)"
   ]
  },
  {
   "cell_type": "code",
   "execution_count": 27,
   "id": "26ce7103",
   "metadata": {},
   "outputs": [],
   "source": [
    "from sklearn.tree import DecisionTreeClassifier"
   ]
  },
  {
   "cell_type": "code",
   "execution_count": 28,
   "id": "b63e5cb1",
   "metadata": {},
   "outputs": [],
   "source": [
    "dtree = DecisionTreeClassifier()"
   ]
  },
  {
   "cell_type": "code",
   "execution_count": 29,
   "id": "37b59de6",
   "metadata": {},
   "outputs": [
    {
     "data": {
      "text/html": [
       "<style>#sk-container-id-1 {color: black;}#sk-container-id-1 pre{padding: 0;}#sk-container-id-1 div.sk-toggleable {background-color: white;}#sk-container-id-1 label.sk-toggleable__label {cursor: pointer;display: block;width: 100%;margin-bottom: 0;padding: 0.3em;box-sizing: border-box;text-align: center;}#sk-container-id-1 label.sk-toggleable__label-arrow:before {content: \"▸\";float: left;margin-right: 0.25em;color: #696969;}#sk-container-id-1 label.sk-toggleable__label-arrow:hover:before {color: black;}#sk-container-id-1 div.sk-estimator:hover label.sk-toggleable__label-arrow:before {color: black;}#sk-container-id-1 div.sk-toggleable__content {max-height: 0;max-width: 0;overflow: hidden;text-align: left;background-color: #f0f8ff;}#sk-container-id-1 div.sk-toggleable__content pre {margin: 0.2em;color: black;border-radius: 0.25em;background-color: #f0f8ff;}#sk-container-id-1 input.sk-toggleable__control:checked~div.sk-toggleable__content {max-height: 200px;max-width: 100%;overflow: auto;}#sk-container-id-1 input.sk-toggleable__control:checked~label.sk-toggleable__label-arrow:before {content: \"▾\";}#sk-container-id-1 div.sk-estimator input.sk-toggleable__control:checked~label.sk-toggleable__label {background-color: #d4ebff;}#sk-container-id-1 div.sk-label input.sk-toggleable__control:checked~label.sk-toggleable__label {background-color: #d4ebff;}#sk-container-id-1 input.sk-hidden--visually {border: 0;clip: rect(1px 1px 1px 1px);clip: rect(1px, 1px, 1px, 1px);height: 1px;margin: -1px;overflow: hidden;padding: 0;position: absolute;width: 1px;}#sk-container-id-1 div.sk-estimator {font-family: monospace;background-color: #f0f8ff;border: 1px dotted black;border-radius: 0.25em;box-sizing: border-box;margin-bottom: 0.5em;}#sk-container-id-1 div.sk-estimator:hover {background-color: #d4ebff;}#sk-container-id-1 div.sk-parallel-item::after {content: \"\";width: 100%;border-bottom: 1px solid gray;flex-grow: 1;}#sk-container-id-1 div.sk-label:hover label.sk-toggleable__label {background-color: #d4ebff;}#sk-container-id-1 div.sk-serial::before {content: \"\";position: absolute;border-left: 1px solid gray;box-sizing: border-box;top: 0;bottom: 0;left: 50%;z-index: 0;}#sk-container-id-1 div.sk-serial {display: flex;flex-direction: column;align-items: center;background-color: white;padding-right: 0.2em;padding-left: 0.2em;position: relative;}#sk-container-id-1 div.sk-item {position: relative;z-index: 1;}#sk-container-id-1 div.sk-parallel {display: flex;align-items: stretch;justify-content: center;background-color: white;position: relative;}#sk-container-id-1 div.sk-item::before, #sk-container-id-1 div.sk-parallel-item::before {content: \"\";position: absolute;border-left: 1px solid gray;box-sizing: border-box;top: 0;bottom: 0;left: 50%;z-index: -1;}#sk-container-id-1 div.sk-parallel-item {display: flex;flex-direction: column;z-index: 1;position: relative;background-color: white;}#sk-container-id-1 div.sk-parallel-item:first-child::after {align-self: flex-end;width: 50%;}#sk-container-id-1 div.sk-parallel-item:last-child::after {align-self: flex-start;width: 50%;}#sk-container-id-1 div.sk-parallel-item:only-child::after {width: 0;}#sk-container-id-1 div.sk-dashed-wrapped {border: 1px dashed gray;margin: 0 0.4em 0.5em 0.4em;box-sizing: border-box;padding-bottom: 0.4em;background-color: white;}#sk-container-id-1 div.sk-label label {font-family: monospace;font-weight: bold;display: inline-block;line-height: 1.2em;}#sk-container-id-1 div.sk-label-container {text-align: center;}#sk-container-id-1 div.sk-container {/* jupyter's `normalize.less` sets `[hidden] { display: none; }` but bootstrap.min.css set `[hidden] { display: none !important; }` so we also need the `!important` here to be able to override the default hidden behavior on the sphinx rendered scikit-learn.org. See: https://github.com/scikit-learn/scikit-learn/issues/21755 */display: inline-block !important;position: relative;}#sk-container-id-1 div.sk-text-repr-fallback {display: none;}</style><div id=\"sk-container-id-1\" class=\"sk-top-container\"><div class=\"sk-text-repr-fallback\"><pre>DecisionTreeClassifier()</pre><b>In a Jupyter environment, please rerun this cell to show the HTML representation or trust the notebook. <br />On GitHub, the HTML representation is unable to render, please try loading this page with nbviewer.org.</b></div><div class=\"sk-container\" hidden><div class=\"sk-item\"><div class=\"sk-estimator sk-toggleable\"><input class=\"sk-toggleable__control sk-hidden--visually\" id=\"sk-estimator-id-1\" type=\"checkbox\" checked><label for=\"sk-estimator-id-1\" class=\"sk-toggleable__label sk-toggleable__label-arrow\">DecisionTreeClassifier</label><div class=\"sk-toggleable__content\"><pre>DecisionTreeClassifier()</pre></div></div></div></div></div>"
      ],
      "text/plain": [
       "DecisionTreeClassifier()"
      ]
     },
     "execution_count": 29,
     "metadata": {},
     "output_type": "execute_result"
    }
   ],
   "source": [
    "dtree.fit(X_train, y_train)"
   ]
  },
  {
   "cell_type": "markdown",
   "id": "e736edb6",
   "metadata": {},
   "source": [
    "# Evaluating Model"
   ]
  },
  {
   "cell_type": "code",
   "execution_count": 30,
   "id": "5ab39d3f",
   "metadata": {},
   "outputs": [],
   "source": [
    "predecitions = dtree.predict(X_test)"
   ]
  },
  {
   "cell_type": "code",
   "execution_count": 31,
   "id": "eeca58b7",
   "metadata": {},
   "outputs": [],
   "source": [
    "from sklearn.metrics import classification_report"
   ]
  },
  {
   "cell_type": "code",
   "execution_count": 32,
   "id": "55b5fee7",
   "metadata": {},
   "outputs": [
    {
     "name": "stdout",
     "output_type": "stream",
     "text": [
      "              precision    recall  f1-score   support\n",
      "\n",
      "     5200000       0.00      0.00      0.00         0\n",
      "     6500000       0.00      0.00      0.00         1\n",
      "     7500000       0.00      0.00      0.00         1\n",
      "     8000000       0.00      0.00      0.00         0\n",
      "    10500000       0.00      0.00      0.00         1\n",
      "    10600000       0.00      0.00      0.00         1\n",
      "    11000000       0.00      0.00      0.00         1\n",
      "    11500000       0.00      0.00      0.00         1\n",
      "    12000000       0.00      0.00      0.00         1\n",
      "    12500000       0.33      0.33      0.33         3\n",
      "    13000000       0.00      0.00      0.00         1\n",
      "    13500000       0.00      0.00      0.00         1\n",
      "    14500000       0.00      0.00      0.00         1\n",
      "    15000000       0.00      0.00      0.00         3\n",
      "    16500000       0.00      0.00      0.00         4\n",
      "    17000000       0.00      0.00      0.00         4\n",
      "    17500000       0.00      0.00      0.00         2\n",
      "    18000000       0.00      0.00      0.00         2\n",
      "    18500000       0.00      0.00      0.00         1\n",
      "    19000000       0.33      0.20      0.25         5\n",
      "    19200000       0.00      0.00      0.00         1\n",
      "    19500000       0.00      0.00      0.00         6\n",
      "    19800000       0.00      0.00      0.00         1\n",
      "    19999999       0.00      0.00      0.00         1\n",
      "    20000000       0.00      0.00      0.00         2\n",
      "    21000000       0.00      0.00      0.00         4\n",
      "    21400000       0.00      0.00      0.00         0\n",
      "    21500000       0.00      0.00      0.00         6\n",
      "    22000000       0.10      0.25      0.14         4\n",
      "    22500000       0.00      0.00      0.00         8\n",
      "    22700000       0.00      0.00      0.00         0\n",
      "    23000000       0.00      0.00      0.00         0\n",
      "    23500000       0.00      0.00      0.00         1\n",
      "    23700000       0.00      0.00      0.00         1\n",
      "    24000000       0.00      0.00      0.00         1\n",
      "    24500000       0.00      0.00      0.00         2\n",
      "    25000000       0.00      0.00      0.00         2\n",
      "    25500000       0.00      0.00      0.00         3\n",
      "    26000000       0.00      0.00      0.00         2\n",
      "    26500000       0.50      0.14      0.22         7\n",
      "    27000000       0.00      0.00      0.00         3\n",
      "    27500000       0.25      0.50      0.33         2\n",
      "    27800000       0.00      0.00      0.00         1\n",
      "    28000000       0.00      0.00      0.00         1\n",
      "    28500000       0.00      0.00      0.00         2\n",
      "    28700000       0.00      0.00      0.00         0\n",
      "    29000000       0.00      0.00      0.00         2\n",
      "    29500000       0.00      0.00      0.00         1\n",
      "    29900000       0.00      0.00      0.00         0\n",
      "    30000000       0.00      0.00      0.00         2\n",
      "    31000000       0.00      0.00      0.00         1\n",
      "    31500000       0.00      0.00      0.00         4\n",
      "    32000000       0.00      0.00      0.00         0\n",
      "    32500000       0.00      0.00      0.00         2\n",
      "    33000000       0.00      0.00      0.00         4\n",
      "    33500000       0.25      1.00      0.40         1\n",
      "    34000000       0.00      0.00      0.00         1\n",
      "    34100000       0.00      0.00      0.00         0\n",
      "    34500000       0.00      0.00      0.00         1\n",
      "    34650000       1.00      0.75      0.86         4\n",
      "    35000000       0.14      0.14      0.14         7\n",
      "    35500000       0.00      0.00      0.00         1\n",
      "    35555555       0.00      0.00      0.00         0\n",
      "    36500000       0.00      0.00      0.00         2\n",
      "    37000000       0.00      0.00      0.00         2\n",
      "    37500000       0.00      0.00      0.00         1\n",
      "    38000000       0.00      0.00      0.00         4\n",
      "    38500000       0.00      0.00      0.00         0\n",
      "    38700000       0.00      0.00      0.00         1\n",
      "    39000000       0.00      0.00      0.00         1\n",
      "    39500000       0.00      0.00      0.00         4\n",
      "    41000000       0.00      0.00      0.00         0\n",
      "    42000000       0.00      0.00      0.00         1\n",
      "    42500000       0.00      0.00      0.00         1\n",
      "    42700000       0.00      0.00      0.00         0\n",
      "    43000000       0.00      0.00      0.00         0\n",
      "    43500000       0.00      0.00      0.00         1\n",
      "    44000000       0.00      0.00      0.00         1\n",
      "    44500000       0.00      0.00      0.00         1\n",
      "    45000000       0.00      0.00      0.00         2\n",
      "    46000000       1.00      1.00      1.00         1\n",
      "    46500000       0.00      0.00      0.00         1\n",
      "    49000000       0.00      0.00      0.00         0\n",
      "    49200000       0.00      0.00      0.00         1\n",
      "    49500000       0.00      0.00      0.00         0\n",
      "    50000000       0.00      0.00      0.00         0\n",
      "    51000000       0.00      0.00      0.00         1\n",
      "    51500000       0.00      0.00      0.00         0\n",
      "    52000000       0.00      0.00      0.00         1\n",
      "    53600000       0.00      0.00      0.00         1\n",
      "    55000000       0.00      0.00      0.00         3\n",
      "    55100000       0.00      0.00      0.00         1\n",
      "    58500000       0.00      0.00      0.00         1\n",
      "    60000000       0.00      0.00      0.00         2\n",
      "    62500000       0.00      0.00      0.00         1\n",
      "    64000000       0.00      0.00      0.00         1\n",
      "    70000000       0.00      0.00      0.00         1\n",
      "    75000000       0.00      0.00      0.00         1\n",
      "    78500000       0.00      0.00      0.00         1\n",
      "    79500000       0.00      0.00      0.00         1\n",
      "    80000000       0.00      0.00      0.00         1\n",
      "    90000000       0.00      0.00      0.00         0\n",
      "    97500000       0.00      0.00      0.00         0\n",
      "   110000000       0.00      0.00      0.00         1\n",
      "   115000000       0.00      0.00      0.00         0\n",
      "   140000000       0.00      0.00      0.00         0\n",
      "   145000000       0.00      0.00      0.00         1\n",
      "   175000000       1.00      1.00      1.00         1\n",
      "   260000000       0.00      0.00      0.00         0\n",
      "\n",
      "    accuracy                           0.07       171\n",
      "   macro avg       0.05      0.05      0.04       171\n",
      "weighted avg       0.08      0.07      0.07       171\n",
      "\n"
     ]
    },
    {
     "name": "stderr",
     "output_type": "stream",
     "text": [
      "C:\\Users\\milan\\anaconda3\\Lib\\site-packages\\sklearn\\metrics\\_classification.py:1469: UndefinedMetricWarning: Precision and F-score are ill-defined and being set to 0.0 in labels with no predicted samples. Use `zero_division` parameter to control this behavior.\n",
      "  _warn_prf(average, modifier, msg_start, len(result))\n",
      "C:\\Users\\milan\\anaconda3\\Lib\\site-packages\\sklearn\\metrics\\_classification.py:1469: UndefinedMetricWarning: Recall and F-score are ill-defined and being set to 0.0 in labels with no true samples. Use `zero_division` parameter to control this behavior.\n",
      "  _warn_prf(average, modifier, msg_start, len(result))\n",
      "C:\\Users\\milan\\anaconda3\\Lib\\site-packages\\sklearn\\metrics\\_classification.py:1469: UndefinedMetricWarning: Precision and F-score are ill-defined and being set to 0.0 in labels with no predicted samples. Use `zero_division` parameter to control this behavior.\n",
      "  _warn_prf(average, modifier, msg_start, len(result))\n",
      "C:\\Users\\milan\\anaconda3\\Lib\\site-packages\\sklearn\\metrics\\_classification.py:1469: UndefinedMetricWarning: Recall and F-score are ill-defined and being set to 0.0 in labels with no true samples. Use `zero_division` parameter to control this behavior.\n",
      "  _warn_prf(average, modifier, msg_start, len(result))\n",
      "C:\\Users\\milan\\anaconda3\\Lib\\site-packages\\sklearn\\metrics\\_classification.py:1469: UndefinedMetricWarning: Precision and F-score are ill-defined and being set to 0.0 in labels with no predicted samples. Use `zero_division` parameter to control this behavior.\n",
      "  _warn_prf(average, modifier, msg_start, len(result))\n",
      "C:\\Users\\milan\\anaconda3\\Lib\\site-packages\\sklearn\\metrics\\_classification.py:1469: UndefinedMetricWarning: Recall and F-score are ill-defined and being set to 0.0 in labels with no true samples. Use `zero_division` parameter to control this behavior.\n",
      "  _warn_prf(average, modifier, msg_start, len(result))\n"
     ]
    }
   ],
   "source": [
    "print(classification_report(y_test, predecitions))"
   ]
  },
  {
   "cell_type": "markdown",
   "id": "e5471c19",
   "metadata": {},
   "source": [
    "# Random Forest"
   ]
  },
  {
   "cell_type": "code",
   "execution_count": 33,
   "id": "09111149",
   "metadata": {},
   "outputs": [],
   "source": [
    "from sklearn.ensemble import RandomForestClassifier"
   ]
  },
  {
   "cell_type": "code",
   "execution_count": 34,
   "id": "33ed7258",
   "metadata": {},
   "outputs": [
    {
     "data": {
      "text/html": [
       "<style>#sk-container-id-2 {color: black;}#sk-container-id-2 pre{padding: 0;}#sk-container-id-2 div.sk-toggleable {background-color: white;}#sk-container-id-2 label.sk-toggleable__label {cursor: pointer;display: block;width: 100%;margin-bottom: 0;padding: 0.3em;box-sizing: border-box;text-align: center;}#sk-container-id-2 label.sk-toggleable__label-arrow:before {content: \"▸\";float: left;margin-right: 0.25em;color: #696969;}#sk-container-id-2 label.sk-toggleable__label-arrow:hover:before {color: black;}#sk-container-id-2 div.sk-estimator:hover label.sk-toggleable__label-arrow:before {color: black;}#sk-container-id-2 div.sk-toggleable__content {max-height: 0;max-width: 0;overflow: hidden;text-align: left;background-color: #f0f8ff;}#sk-container-id-2 div.sk-toggleable__content pre {margin: 0.2em;color: black;border-radius: 0.25em;background-color: #f0f8ff;}#sk-container-id-2 input.sk-toggleable__control:checked~div.sk-toggleable__content {max-height: 200px;max-width: 100%;overflow: auto;}#sk-container-id-2 input.sk-toggleable__control:checked~label.sk-toggleable__label-arrow:before {content: \"▾\";}#sk-container-id-2 div.sk-estimator input.sk-toggleable__control:checked~label.sk-toggleable__label {background-color: #d4ebff;}#sk-container-id-2 div.sk-label input.sk-toggleable__control:checked~label.sk-toggleable__label {background-color: #d4ebff;}#sk-container-id-2 input.sk-hidden--visually {border: 0;clip: rect(1px 1px 1px 1px);clip: rect(1px, 1px, 1px, 1px);height: 1px;margin: -1px;overflow: hidden;padding: 0;position: absolute;width: 1px;}#sk-container-id-2 div.sk-estimator {font-family: monospace;background-color: #f0f8ff;border: 1px dotted black;border-radius: 0.25em;box-sizing: border-box;margin-bottom: 0.5em;}#sk-container-id-2 div.sk-estimator:hover {background-color: #d4ebff;}#sk-container-id-2 div.sk-parallel-item::after {content: \"\";width: 100%;border-bottom: 1px solid gray;flex-grow: 1;}#sk-container-id-2 div.sk-label:hover label.sk-toggleable__label {background-color: #d4ebff;}#sk-container-id-2 div.sk-serial::before {content: \"\";position: absolute;border-left: 1px solid gray;box-sizing: border-box;top: 0;bottom: 0;left: 50%;z-index: 0;}#sk-container-id-2 div.sk-serial {display: flex;flex-direction: column;align-items: center;background-color: white;padding-right: 0.2em;padding-left: 0.2em;position: relative;}#sk-container-id-2 div.sk-item {position: relative;z-index: 1;}#sk-container-id-2 div.sk-parallel {display: flex;align-items: stretch;justify-content: center;background-color: white;position: relative;}#sk-container-id-2 div.sk-item::before, #sk-container-id-2 div.sk-parallel-item::before {content: \"\";position: absolute;border-left: 1px solid gray;box-sizing: border-box;top: 0;bottom: 0;left: 50%;z-index: -1;}#sk-container-id-2 div.sk-parallel-item {display: flex;flex-direction: column;z-index: 1;position: relative;background-color: white;}#sk-container-id-2 div.sk-parallel-item:first-child::after {align-self: flex-end;width: 50%;}#sk-container-id-2 div.sk-parallel-item:last-child::after {align-self: flex-start;width: 50%;}#sk-container-id-2 div.sk-parallel-item:only-child::after {width: 0;}#sk-container-id-2 div.sk-dashed-wrapped {border: 1px dashed gray;margin: 0 0.4em 0.5em 0.4em;box-sizing: border-box;padding-bottom: 0.4em;background-color: white;}#sk-container-id-2 div.sk-label label {font-family: monospace;font-weight: bold;display: inline-block;line-height: 1.2em;}#sk-container-id-2 div.sk-label-container {text-align: center;}#sk-container-id-2 div.sk-container {/* jupyter's `normalize.less` sets `[hidden] { display: none; }` but bootstrap.min.css set `[hidden] { display: none !important; }` so we also need the `!important` here to be able to override the default hidden behavior on the sphinx rendered scikit-learn.org. See: https://github.com/scikit-learn/scikit-learn/issues/21755 */display: inline-block !important;position: relative;}#sk-container-id-2 div.sk-text-repr-fallback {display: none;}</style><div id=\"sk-container-id-2\" class=\"sk-top-container\"><div class=\"sk-text-repr-fallback\"><pre>RandomForestClassifier()</pre><b>In a Jupyter environment, please rerun this cell to show the HTML representation or trust the notebook. <br />On GitHub, the HTML representation is unable to render, please try loading this page with nbviewer.org.</b></div><div class=\"sk-container\" hidden><div class=\"sk-item\"><div class=\"sk-estimator sk-toggleable\"><input class=\"sk-toggleable__control sk-hidden--visually\" id=\"sk-estimator-id-2\" type=\"checkbox\" checked><label for=\"sk-estimator-id-2\" class=\"sk-toggleable__label sk-toggleable__label-arrow\">RandomForestClassifier</label><div class=\"sk-toggleable__content\"><pre>RandomForestClassifier()</pre></div></div></div></div></div>"
      ],
      "text/plain": [
       "RandomForestClassifier()"
      ]
     },
     "execution_count": 34,
     "metadata": {},
     "output_type": "execute_result"
    }
   ],
   "source": [
    "rfc = RandomForestClassifier(n_estimators=100)\n",
    "rfc.fit(X_train, y_train)"
   ]
  },
  {
   "cell_type": "code",
   "execution_count": 35,
   "id": "4c3c2800",
   "metadata": {},
   "outputs": [],
   "source": [
    "rfc_pred = rfc.predict(X_test)"
   ]
  },
  {
   "cell_type": "code",
   "execution_count": 36,
   "id": "af360793",
   "metadata": {},
   "outputs": [
    {
     "name": "stdout",
     "output_type": "stream",
     "text": [
      "              precision    recall  f1-score   support\n",
      "\n",
      "     6500000       0.00      0.00      0.00         1\n",
      "     7500000       0.00      0.00      0.00         1\n",
      "    10500000       0.00      0.00      0.00         1\n",
      "    10600000       0.00      0.00      0.00         1\n",
      "    11000000       0.00      0.00      0.00         1\n",
      "    11300000       0.00      0.00      0.00         0\n",
      "    11500000       0.00      0.00      0.00         1\n",
      "    12000000       0.00      0.00      0.00         1\n",
      "    12500000       0.29      0.67      0.40         3\n",
      "    13000000       0.00      0.00      0.00         1\n",
      "    13500000       0.00      0.00      0.00         1\n",
      "    14500000       0.00      0.00      0.00         1\n",
      "    15000000       0.25      0.33      0.29         3\n",
      "    16000000       0.00      0.00      0.00         0\n",
      "    16500000       0.00      0.00      0.00         4\n",
      "    17000000       0.00      0.00      0.00         4\n",
      "    17500000       0.00      0.00      0.00         2\n",
      "    18000000       0.00      0.00      0.00         2\n",
      "    18500000       0.00      0.00      0.00         1\n",
      "    19000000       0.00      0.00      0.00         5\n",
      "    19200000       0.00      0.00      0.00         1\n",
      "    19500000       0.00      0.00      0.00         6\n",
      "    19800000       0.00      0.00      0.00         1\n",
      "    19999999       0.00      0.00      0.00         1\n",
      "    20000000       0.00      0.00      0.00         2\n",
      "    20400000       0.00      0.00      0.00         0\n",
      "    21000000       0.00      0.00      0.00         4\n",
      "    21500000       0.33      0.17      0.22         6\n",
      "    22000000       0.00      0.00      0.00         4\n",
      "    22500000       0.00      0.00      0.00         8\n",
      "    22700000       0.00      0.00      0.00         0\n",
      "    23000000       0.00      0.00      0.00         0\n",
      "    23500000       0.00      0.00      0.00         1\n",
      "    23700000       0.00      0.00      0.00         1\n",
      "    24000000       0.00      0.00      0.00         1\n",
      "    24500000       0.00      0.00      0.00         2\n",
      "    25000000       0.00      0.00      0.00         2\n",
      "    25500000       0.00      0.00      0.00         3\n",
      "    26000000       0.20      0.50      0.29         2\n",
      "    26500000       0.00      0.00      0.00         7\n",
      "    27000000       0.00      0.00      0.00         3\n",
      "    27500000       0.17      0.50      0.25         2\n",
      "    27800000       0.00      0.00      0.00         1\n",
      "    28000000       0.00      0.00      0.00         1\n",
      "    28500000       0.00      0.00      0.00         2\n",
      "    28700000       0.00      0.00      0.00         0\n",
      "    29000000       0.33      0.50      0.40         2\n",
      "    29500000       0.00      0.00      0.00         1\n",
      "    30000000       0.00      0.00      0.00         2\n",
      "    31000000       0.00      0.00      0.00         1\n",
      "    31500000       0.50      0.25      0.33         4\n",
      "    31800000       0.00      0.00      0.00         0\n",
      "    32000000       0.00      0.00      0.00         0\n",
      "    32500000       0.00      0.00      0.00         2\n",
      "    33000000       0.00      0.00      0.00         4\n",
      "    33500000       0.00      0.00      0.00         1\n",
      "    34000000       0.00      0.00      0.00         1\n",
      "    34100000       0.00      0.00      0.00         0\n",
      "    34500000       0.00      0.00      0.00         1\n",
      "    34650000       1.00      0.50      0.67         4\n",
      "    35000000       0.00      0.00      0.00         7\n",
      "    35500000       0.00      0.00      0.00         1\n",
      "    36000000       0.00      0.00      0.00         0\n",
      "    36500000       0.00      0.00      0.00         2\n",
      "    37000000       0.00      0.00      0.00         2\n",
      "    37400000       0.00      0.00      0.00         0\n",
      "    37500000       0.00      0.00      0.00         1\n",
      "    38000000       0.00      0.00      0.00         4\n",
      "    38500000       0.00      0.00      0.00         0\n",
      "    38700000       0.00      0.00      0.00         1\n",
      "    39000000       0.00      0.00      0.00         1\n",
      "    39500000       0.00      0.00      0.00         4\n",
      "    40000000       0.00      0.00      0.00         0\n",
      "    41000000       0.00      0.00      0.00         0\n",
      "    42000000       0.00      0.00      0.00         1\n",
      "    42500000       0.00      0.00      0.00         1\n",
      "    43000000       0.00      0.00      0.00         0\n",
      "    43500000       0.00      0.00      0.00         1\n",
      "    44000000       0.00      0.00      0.00         1\n",
      "    44500000       0.00      0.00      0.00         1\n",
      "    44800000       0.00      0.00      0.00         0\n",
      "    45000000       0.00      0.00      0.00         2\n",
      "    46000000       0.14      1.00      0.25         1\n",
      "    46500000       0.00      0.00      0.00         1\n",
      "    49200000       0.00      0.00      0.00         1\n",
      "    50000000       0.00      0.00      0.00         0\n",
      "    51000000       0.00      0.00      0.00         1\n",
      "    52000000       0.00      0.00      0.00         1\n",
      "    52500000       0.00      0.00      0.00         0\n",
      "    53600000       0.00      0.00      0.00         1\n",
      "    54000000       0.00      0.00      0.00         0\n",
      "    55000000       0.00      0.00      0.00         3\n",
      "    55100000       0.00      0.00      0.00         1\n",
      "    57000000       0.00      0.00      0.00         0\n",
      "    58500000       0.00      0.00      0.00         1\n",
      "    60000000       0.00      0.00      0.00         2\n",
      "    62500000       0.00      0.00      0.00         1\n",
      "    64000000       0.00      0.00      0.00         1\n",
      "    70000000       0.00      0.00      0.00         1\n",
      "    75000000       0.00      0.00      0.00         1\n",
      "    78500000       0.00      0.00      0.00         1\n",
      "    79500000       0.00      0.00      0.00         1\n",
      "    80000000       0.00      0.00      0.00         1\n",
      "    95000000       0.00      0.00      0.00         0\n",
      "   110000000       0.00      0.00      0.00         1\n",
      "   140000000       0.00      0.00      0.00         0\n",
      "   145000000       0.00      0.00      0.00         1\n",
      "   175000000       1.00      1.00      1.00         1\n",
      "\n",
      "    accuracy                           0.07       171\n",
      "   macro avg       0.04      0.05      0.04       171\n",
      "weighted avg       0.07      0.07      0.06       171\n",
      "\n"
     ]
    },
    {
     "name": "stderr",
     "output_type": "stream",
     "text": [
      "C:\\Users\\milan\\anaconda3\\Lib\\site-packages\\sklearn\\metrics\\_classification.py:1469: UndefinedMetricWarning: Precision and F-score are ill-defined and being set to 0.0 in labels with no predicted samples. Use `zero_division` parameter to control this behavior.\n",
      "  _warn_prf(average, modifier, msg_start, len(result))\n",
      "C:\\Users\\milan\\anaconda3\\Lib\\site-packages\\sklearn\\metrics\\_classification.py:1469: UndefinedMetricWarning: Recall and F-score are ill-defined and being set to 0.0 in labels with no true samples. Use `zero_division` parameter to control this behavior.\n",
      "  _warn_prf(average, modifier, msg_start, len(result))\n",
      "C:\\Users\\milan\\anaconda3\\Lib\\site-packages\\sklearn\\metrics\\_classification.py:1469: UndefinedMetricWarning: Precision and F-score are ill-defined and being set to 0.0 in labels with no predicted samples. Use `zero_division` parameter to control this behavior.\n",
      "  _warn_prf(average, modifier, msg_start, len(result))\n",
      "C:\\Users\\milan\\anaconda3\\Lib\\site-packages\\sklearn\\metrics\\_classification.py:1469: UndefinedMetricWarning: Recall and F-score are ill-defined and being set to 0.0 in labels with no true samples. Use `zero_division` parameter to control this behavior.\n",
      "  _warn_prf(average, modifier, msg_start, len(result))\n",
      "C:\\Users\\milan\\anaconda3\\Lib\\site-packages\\sklearn\\metrics\\_classification.py:1469: UndefinedMetricWarning: Precision and F-score are ill-defined and being set to 0.0 in labels with no predicted samples. Use `zero_division` parameter to control this behavior.\n",
      "  _warn_prf(average, modifier, msg_start, len(result))\n",
      "C:\\Users\\milan\\anaconda3\\Lib\\site-packages\\sklearn\\metrics\\_classification.py:1469: UndefinedMetricWarning: Recall and F-score are ill-defined and being set to 0.0 in labels with no true samples. Use `zero_division` parameter to control this behavior.\n",
      "  _warn_prf(average, modifier, msg_start, len(result))\n"
     ]
    }
   ],
   "source": [
    "print(classification_report(y_test, rfc_pred))"
   ]
  },
  {
   "cell_type": "code",
   "execution_count": 41,
   "id": "e50954c4",
   "metadata": {},
   "outputs": [
    {
     "name": "stderr",
     "output_type": "stream",
     "text": [
      "C:\\Users\\milan\\anaconda3\\Lib\\site-packages\\sklearn\\linear_model\\_logistic.py:460: ConvergenceWarning: lbfgs failed to converge (status=1):\n",
      "STOP: TOTAL NO. of ITERATIONS REACHED LIMIT.\n",
      "\n",
      "Increase the number of iterations (max_iter) or scale the data as shown in:\n",
      "    https://scikit-learn.org/stable/modules/preprocessing.html\n",
      "Please also refer to the documentation for alternative solver options:\n",
      "    https://scikit-learn.org/stable/modules/linear_model.html#logistic-regression\n",
      "  n_iter_i = _check_optimize_result(\n"
     ]
    },
    {
     "data": {
      "text/html": [
       "<style>#sk-container-id-3 {color: black;}#sk-container-id-3 pre{padding: 0;}#sk-container-id-3 div.sk-toggleable {background-color: white;}#sk-container-id-3 label.sk-toggleable__label {cursor: pointer;display: block;width: 100%;margin-bottom: 0;padding: 0.3em;box-sizing: border-box;text-align: center;}#sk-container-id-3 label.sk-toggleable__label-arrow:before {content: \"▸\";float: left;margin-right: 0.25em;color: #696969;}#sk-container-id-3 label.sk-toggleable__label-arrow:hover:before {color: black;}#sk-container-id-3 div.sk-estimator:hover label.sk-toggleable__label-arrow:before {color: black;}#sk-container-id-3 div.sk-toggleable__content {max-height: 0;max-width: 0;overflow: hidden;text-align: left;background-color: #f0f8ff;}#sk-container-id-3 div.sk-toggleable__content pre {margin: 0.2em;color: black;border-radius: 0.25em;background-color: #f0f8ff;}#sk-container-id-3 input.sk-toggleable__control:checked~div.sk-toggleable__content {max-height: 200px;max-width: 100%;overflow: auto;}#sk-container-id-3 input.sk-toggleable__control:checked~label.sk-toggleable__label-arrow:before {content: \"▾\";}#sk-container-id-3 div.sk-estimator input.sk-toggleable__control:checked~label.sk-toggleable__label {background-color: #d4ebff;}#sk-container-id-3 div.sk-label input.sk-toggleable__control:checked~label.sk-toggleable__label {background-color: #d4ebff;}#sk-container-id-3 input.sk-hidden--visually {border: 0;clip: rect(1px 1px 1px 1px);clip: rect(1px, 1px, 1px, 1px);height: 1px;margin: -1px;overflow: hidden;padding: 0;position: absolute;width: 1px;}#sk-container-id-3 div.sk-estimator {font-family: monospace;background-color: #f0f8ff;border: 1px dotted black;border-radius: 0.25em;box-sizing: border-box;margin-bottom: 0.5em;}#sk-container-id-3 div.sk-estimator:hover {background-color: #d4ebff;}#sk-container-id-3 div.sk-parallel-item::after {content: \"\";width: 100%;border-bottom: 1px solid gray;flex-grow: 1;}#sk-container-id-3 div.sk-label:hover label.sk-toggleable__label {background-color: #d4ebff;}#sk-container-id-3 div.sk-serial::before {content: \"\";position: absolute;border-left: 1px solid gray;box-sizing: border-box;top: 0;bottom: 0;left: 50%;z-index: 0;}#sk-container-id-3 div.sk-serial {display: flex;flex-direction: column;align-items: center;background-color: white;padding-right: 0.2em;padding-left: 0.2em;position: relative;}#sk-container-id-3 div.sk-item {position: relative;z-index: 1;}#sk-container-id-3 div.sk-parallel {display: flex;align-items: stretch;justify-content: center;background-color: white;position: relative;}#sk-container-id-3 div.sk-item::before, #sk-container-id-3 div.sk-parallel-item::before {content: \"\";position: absolute;border-left: 1px solid gray;box-sizing: border-box;top: 0;bottom: 0;left: 50%;z-index: -1;}#sk-container-id-3 div.sk-parallel-item {display: flex;flex-direction: column;z-index: 1;position: relative;background-color: white;}#sk-container-id-3 div.sk-parallel-item:first-child::after {align-self: flex-end;width: 50%;}#sk-container-id-3 div.sk-parallel-item:last-child::after {align-self: flex-start;width: 50%;}#sk-container-id-3 div.sk-parallel-item:only-child::after {width: 0;}#sk-container-id-3 div.sk-dashed-wrapped {border: 1px dashed gray;margin: 0 0.4em 0.5em 0.4em;box-sizing: border-box;padding-bottom: 0.4em;background-color: white;}#sk-container-id-3 div.sk-label label {font-family: monospace;font-weight: bold;display: inline-block;line-height: 1.2em;}#sk-container-id-3 div.sk-label-container {text-align: center;}#sk-container-id-3 div.sk-container {/* jupyter's `normalize.less` sets `[hidden] { display: none; }` but bootstrap.min.css set `[hidden] { display: none !important; }` so we also need the `!important` here to be able to override the default hidden behavior on the sphinx rendered scikit-learn.org. See: https://github.com/scikit-learn/scikit-learn/issues/21755 */display: inline-block !important;position: relative;}#sk-container-id-3 div.sk-text-repr-fallback {display: none;}</style><div id=\"sk-container-id-3\" class=\"sk-top-container\"><div class=\"sk-text-repr-fallback\"><pre>LogisticRegression()</pre><b>In a Jupyter environment, please rerun this cell to show the HTML representation or trust the notebook. <br />On GitHub, the HTML representation is unable to render, please try loading this page with nbviewer.org.</b></div><div class=\"sk-container\" hidden><div class=\"sk-item\"><div class=\"sk-estimator sk-toggleable\"><input class=\"sk-toggleable__control sk-hidden--visually\" id=\"sk-estimator-id-3\" type=\"checkbox\" checked><label for=\"sk-estimator-id-3\" class=\"sk-toggleable__label sk-toggleable__label-arrow\">LogisticRegression</label><div class=\"sk-toggleable__content\"><pre>LogisticRegression()</pre></div></div></div></div></div>"
      ],
      "text/plain": [
       "LogisticRegression()"
      ]
     },
     "execution_count": 41,
     "metadata": {},
     "output_type": "execute_result"
    }
   ],
   "source": [
    "from sklearn.linear_model import LogisticRegression\n",
    "logmodel = LogisticRegression()\n",
    "logmodel.fit(X_train,y_train)"
   ]
  },
  {
   "cell_type": "code",
   "execution_count": 42,
   "id": "6083a177",
   "metadata": {},
   "outputs": [],
   "source": [
    "predictions = logmodel.predict(X_test)"
   ]
  },
  {
   "cell_type": "code",
   "execution_count": 43,
   "id": "01d776f6",
   "metadata": {},
   "outputs": [
    {
     "name": "stdout",
     "output_type": "stream",
     "text": [
      "              precision    recall  f1-score   support\n",
      "\n",
      "     6500000       0.00      0.00      0.00         1\n",
      "     7500000       0.00      0.00      0.00         1\n",
      "    10500000       0.00      0.00      0.00         1\n",
      "    10600000       0.00      0.00      0.00         1\n",
      "    11000000       0.00      0.00      0.00         1\n",
      "    11500000       0.00      0.00      0.00         1\n",
      "    12000000       0.00      0.00      0.00         1\n",
      "    12500000       0.00      0.00      0.00         3\n",
      "    13000000       0.00      0.00      0.00         1\n",
      "    13500000       0.00      0.00      0.00         1\n",
      "    14500000       0.00      0.00      0.00         1\n",
      "    15000000       0.00      0.00      0.00         3\n",
      "    16500000       0.00      0.00      0.00         4\n",
      "    17000000       0.00      0.00      0.00         4\n",
      "    17500000       0.00      0.00      0.00         2\n",
      "    18000000       0.00      0.00      0.00         2\n",
      "    18500000       0.00      0.00      0.00         1\n",
      "    19000000       0.00      0.00      0.00         5\n",
      "    19200000       0.00      0.00      0.00         1\n",
      "    19500000       0.00      0.00      0.00         6\n",
      "    19800000       0.00      0.00      0.00         1\n",
      "    19999999       0.00      0.00      0.00         1\n",
      "    20000000       0.00      0.00      0.00         2\n",
      "    21000000       0.03      0.50      0.05         4\n",
      "    21500000       0.00      0.00      0.00         6\n",
      "    22000000       0.00      0.00      0.00         4\n",
      "    22500000       0.07      0.12      0.09         8\n",
      "    23500000       0.00      0.00      0.00         1\n",
      "    23700000       0.00      0.00      0.00         1\n",
      "    24000000       0.00      0.00      0.00         1\n",
      "    24500000       0.00      0.00      0.00         2\n",
      "    25000000       0.00      0.00      0.00         2\n",
      "    25500000       0.00      0.00      0.00         3\n",
      "    26000000       0.00      0.00      0.00         2\n",
      "    26500000       0.00      0.00      0.00         7\n",
      "    27000000       0.00      0.00      0.00         3\n",
      "    27500000       0.00      0.00      0.00         2\n",
      "    27800000       0.00      0.00      0.00         1\n",
      "    28000000       0.00      0.00      0.00         1\n",
      "    28500000       0.00      0.00      0.00         2\n",
      "    29000000       0.00      0.00      0.00         2\n",
      "    29500000       0.00      0.00      0.00         1\n",
      "    30000000       0.00      0.00      0.00         2\n",
      "    31000000       0.00      0.00      0.00         1\n",
      "    31500000       0.00      0.00      0.00         4\n",
      "    32500000       0.00      0.00      0.00         2\n",
      "    33000000       0.00      0.00      0.00         4\n",
      "    33500000       0.00      0.00      0.00         1\n",
      "    34000000       0.00      0.00      0.00         1\n",
      "    34500000       0.00      0.00      0.00         1\n",
      "    34650000       0.00      0.00      0.00         4\n",
      "    35000000       0.00      0.00      0.00         7\n",
      "    35500000       0.00      0.00      0.00         1\n",
      "    36500000       0.00      0.00      0.00         2\n",
      "    37000000       0.00      0.00      0.00         2\n",
      "    37500000       0.00      0.00      0.00         1\n",
      "    38000000       0.00      0.00      0.00         4\n",
      "    38700000       0.00      0.00      0.00         1\n",
      "    39000000       0.00      0.00      0.00         1\n",
      "    39500000       0.00      0.00      0.00         4\n",
      "    42000000       0.00      0.00      0.00         1\n",
      "    42500000       0.00      0.00      0.00         1\n",
      "    43500000       0.00      0.00      0.00         1\n",
      "    44000000       0.00      0.00      0.00         1\n",
      "    44500000       0.00      0.00      0.00         1\n",
      "    45000000       0.00      0.00      0.00         2\n",
      "    46000000       0.00      0.00      0.00         1\n",
      "    46500000       0.00      0.00      0.00         1\n",
      "    49200000       0.00      0.00      0.00         1\n",
      "    51000000       0.00      0.00      0.00         1\n",
      "    52000000       0.00      0.00      0.00         1\n",
      "    53600000       0.00      0.00      0.00         1\n",
      "    55000000       0.00      0.00      0.00         3\n",
      "    55100000       0.00      0.00      0.00         1\n",
      "    58500000       0.00      0.00      0.00         1\n",
      "    60000000       0.00      0.00      0.00         2\n",
      "    62500000       0.00      0.00      0.00         1\n",
      "    64000000       0.00      0.00      0.00         1\n",
      "    70000000       0.00      0.00      0.00         1\n",
      "    75000000       0.00      0.00      0.00         1\n",
      "    78500000       0.00      0.00      0.00         1\n",
      "    79500000       0.00      0.00      0.00         1\n",
      "    80000000       0.00      0.00      0.00         1\n",
      "   110000000       0.00      0.00      0.00         1\n",
      "   145000000       0.00      0.00      0.00         1\n",
      "   175000000       0.00      0.00      0.00         1\n",
      "\n",
      "    accuracy                           0.02       171\n",
      "   macro avg       0.00      0.01      0.00       171\n",
      "weighted avg       0.00      0.02      0.01       171\n",
      "\n"
     ]
    },
    {
     "name": "stderr",
     "output_type": "stream",
     "text": [
      "C:\\Users\\milan\\anaconda3\\Lib\\site-packages\\sklearn\\metrics\\_classification.py:1469: UndefinedMetricWarning: Precision and F-score are ill-defined and being set to 0.0 in labels with no predicted samples. Use `zero_division` parameter to control this behavior.\n",
      "  _warn_prf(average, modifier, msg_start, len(result))\n",
      "C:\\Users\\milan\\anaconda3\\Lib\\site-packages\\sklearn\\metrics\\_classification.py:1469: UndefinedMetricWarning: Precision and F-score are ill-defined and being set to 0.0 in labels with no predicted samples. Use `zero_division` parameter to control this behavior.\n",
      "  _warn_prf(average, modifier, msg_start, len(result))\n",
      "C:\\Users\\milan\\anaconda3\\Lib\\site-packages\\sklearn\\metrics\\_classification.py:1469: UndefinedMetricWarning: Precision and F-score are ill-defined and being set to 0.0 in labels with no predicted samples. Use `zero_division` parameter to control this behavior.\n",
      "  _warn_prf(average, modifier, msg_start, len(result))\n"
     ]
    }
   ],
   "source": [
    "from sklearn.metrics import classification_report\n",
    "print(classification_report(y_test,predictions))"
   ]
  },
  {
   "cell_type": "code",
   "execution_count": 45,
   "id": "9883c748",
   "metadata": {},
   "outputs": [],
   "source": [
    "from sklearn.linear_model import LinearRegression\n",
    "from sklearn.metrics import r2_score"
   ]
  },
  {
   "cell_type": "code",
   "execution_count": 46,
   "id": "286bdaaf",
   "metadata": {},
   "outputs": [],
   "source": [
    "lm = LinearRegression()"
   ]
  },
  {
   "cell_type": "code",
   "execution_count": 47,
   "id": "b5816c35",
   "metadata": {},
   "outputs": [
    {
     "data": {
      "text/html": [
       "<style>#sk-container-id-4 {color: black;}#sk-container-id-4 pre{padding: 0;}#sk-container-id-4 div.sk-toggleable {background-color: white;}#sk-container-id-4 label.sk-toggleable__label {cursor: pointer;display: block;width: 100%;margin-bottom: 0;padding: 0.3em;box-sizing: border-box;text-align: center;}#sk-container-id-4 label.sk-toggleable__label-arrow:before {content: \"▸\";float: left;margin-right: 0.25em;color: #696969;}#sk-container-id-4 label.sk-toggleable__label-arrow:hover:before {color: black;}#sk-container-id-4 div.sk-estimator:hover label.sk-toggleable__label-arrow:before {color: black;}#sk-container-id-4 div.sk-toggleable__content {max-height: 0;max-width: 0;overflow: hidden;text-align: left;background-color: #f0f8ff;}#sk-container-id-4 div.sk-toggleable__content pre {margin: 0.2em;color: black;border-radius: 0.25em;background-color: #f0f8ff;}#sk-container-id-4 input.sk-toggleable__control:checked~div.sk-toggleable__content {max-height: 200px;max-width: 100%;overflow: auto;}#sk-container-id-4 input.sk-toggleable__control:checked~label.sk-toggleable__label-arrow:before {content: \"▾\";}#sk-container-id-4 div.sk-estimator input.sk-toggleable__control:checked~label.sk-toggleable__label {background-color: #d4ebff;}#sk-container-id-4 div.sk-label input.sk-toggleable__control:checked~label.sk-toggleable__label {background-color: #d4ebff;}#sk-container-id-4 input.sk-hidden--visually {border: 0;clip: rect(1px 1px 1px 1px);clip: rect(1px, 1px, 1px, 1px);height: 1px;margin: -1px;overflow: hidden;padding: 0;position: absolute;width: 1px;}#sk-container-id-4 div.sk-estimator {font-family: monospace;background-color: #f0f8ff;border: 1px dotted black;border-radius: 0.25em;box-sizing: border-box;margin-bottom: 0.5em;}#sk-container-id-4 div.sk-estimator:hover {background-color: #d4ebff;}#sk-container-id-4 div.sk-parallel-item::after {content: \"\";width: 100%;border-bottom: 1px solid gray;flex-grow: 1;}#sk-container-id-4 div.sk-label:hover label.sk-toggleable__label {background-color: #d4ebff;}#sk-container-id-4 div.sk-serial::before {content: \"\";position: absolute;border-left: 1px solid gray;box-sizing: border-box;top: 0;bottom: 0;left: 50%;z-index: 0;}#sk-container-id-4 div.sk-serial {display: flex;flex-direction: column;align-items: center;background-color: white;padding-right: 0.2em;padding-left: 0.2em;position: relative;}#sk-container-id-4 div.sk-item {position: relative;z-index: 1;}#sk-container-id-4 div.sk-parallel {display: flex;align-items: stretch;justify-content: center;background-color: white;position: relative;}#sk-container-id-4 div.sk-item::before, #sk-container-id-4 div.sk-parallel-item::before {content: \"\";position: absolute;border-left: 1px solid gray;box-sizing: border-box;top: 0;bottom: 0;left: 50%;z-index: -1;}#sk-container-id-4 div.sk-parallel-item {display: flex;flex-direction: column;z-index: 1;position: relative;background-color: white;}#sk-container-id-4 div.sk-parallel-item:first-child::after {align-self: flex-end;width: 50%;}#sk-container-id-4 div.sk-parallel-item:last-child::after {align-self: flex-start;width: 50%;}#sk-container-id-4 div.sk-parallel-item:only-child::after {width: 0;}#sk-container-id-4 div.sk-dashed-wrapped {border: 1px dashed gray;margin: 0 0.4em 0.5em 0.4em;box-sizing: border-box;padding-bottom: 0.4em;background-color: white;}#sk-container-id-4 div.sk-label label {font-family: monospace;font-weight: bold;display: inline-block;line-height: 1.2em;}#sk-container-id-4 div.sk-label-container {text-align: center;}#sk-container-id-4 div.sk-container {/* jupyter's `normalize.less` sets `[hidden] { display: none; }` but bootstrap.min.css set `[hidden] { display: none !important; }` so we also need the `!important` here to be able to override the default hidden behavior on the sphinx rendered scikit-learn.org. See: https://github.com/scikit-learn/scikit-learn/issues/21755 */display: inline-block !important;position: relative;}#sk-container-id-4 div.sk-text-repr-fallback {display: none;}</style><div id=\"sk-container-id-4\" class=\"sk-top-container\"><div class=\"sk-text-repr-fallback\"><pre>LinearRegression()</pre><b>In a Jupyter environment, please rerun this cell to show the HTML representation or trust the notebook. <br />On GitHub, the HTML representation is unable to render, please try loading this page with nbviewer.org.</b></div><div class=\"sk-container\" hidden><div class=\"sk-item\"><div class=\"sk-estimator sk-toggleable\"><input class=\"sk-toggleable__control sk-hidden--visually\" id=\"sk-estimator-id-4\" type=\"checkbox\" checked><label for=\"sk-estimator-id-4\" class=\"sk-toggleable__label sk-toggleable__label-arrow\">LinearRegression</label><div class=\"sk-toggleable__content\"><pre>LinearRegression()</pre></div></div></div></div></div>"
      ],
      "text/plain": [
       "LinearRegression()"
      ]
     },
     "execution_count": 47,
     "metadata": {},
     "output_type": "execute_result"
    }
   ],
   "source": [
    "lm.fit(X_train,y_train)"
   ]
  },
  {
   "cell_type": "code",
   "execution_count": 48,
   "id": "98c9f7a8",
   "metadata": {},
   "outputs": [],
   "source": [
    "y_pred = lm.predict(X_test)"
   ]
  },
  {
   "cell_type": "code",
   "execution_count": 49,
   "id": "8cff0947",
   "metadata": {},
   "outputs": [],
   "source": [
    "r2 = r2_score(y_test,y_pred)"
   ]
  },
  {
   "cell_type": "code",
   "execution_count": 50,
   "id": "1426ae28",
   "metadata": {},
   "outputs": [
    {
     "data": {
      "text/plain": [
       "-13365823589102.676"
      ]
     },
     "execution_count": 50,
     "metadata": {},
     "output_type": "execute_result"
    }
   ],
   "source": [
    "r2"
   ]
  },
  {
   "cell_type": "code",
   "execution_count": null,
   "id": "55573459",
   "metadata": {},
   "outputs": [],
   "source": []
  },
  {
   "cell_type": "code",
   "execution_count": null,
   "id": "a8a5d80e",
   "metadata": {},
   "outputs": [],
   "source": []
  }
 ],
 "metadata": {
  "kernelspec": {
   "display_name": "Python 3 (ipykernel)",
   "language": "python",
   "name": "python3"
  },
  "language_info": {
   "codemirror_mode": {
    "name": "ipython",
    "version": 3
   },
   "file_extension": ".py",
   "mimetype": "text/x-python",
   "name": "python",
   "nbconvert_exporter": "python",
   "pygments_lexer": "ipython3",
   "version": "3.11.5"
  }
 },
 "nbformat": 4,
 "nbformat_minor": 5
}
